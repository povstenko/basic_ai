{
 "cells": [
  {
   "cell_type": "markdown",
   "metadata": {
    "id": "mfZcHsou4TSG"
   },
   "source": [
    "## Лабораторна робота 6. **Unsupervised Learning**"
   ]
  },
  {
   "cell_type": "markdown",
   "metadata": {
    "id": "cIAXraWX4TSQ"
   },
   "source": [
    "Оцінювання даної роботи буде ураховувати якість Ваших висновків та візуалізацій. При наявності ЛИШЕ коду та візуалізацій без роз'яснень, робота оцінюватися НЕ БУДЕ.  \n",
    "\n",
    "Більшість поставлених в цій лабораторній роботі задач в майбутньому буде ставитись Вами самойстійно!\n",
    "\n",
    "Під час виконання Вам дозволено користуватися будь-якими зручними для вас бібліотеками для візуалізації. \n",
    "\n",
    "Оформлення коментарів повинно проводитися в текстових комірках ноутбука з використанням синтаксису [LaTeX](https://en.wikibooks.org/wiki/LaTeX/Basics) для оформлення тексту та формул. \n",
    "\n",
    "Роботи ідентифіковані як ІДЕНТИЧНІ одразу отримують 0 балів."
   ]
  },
  {
   "cell_type": "markdown",
   "metadata": {
    "id": "Lpsweyzv4TSR"
   },
   "source": [
    "## Кластерування  \n",
    "\n",
    "В цій лабораторній роботі Ви будете вирішувати задачу класифікації БЕЗ вчителя. "
   ]
  },
  {
   "cell_type": "code",
   "execution_count": null,
   "metadata": {
    "id": "ETpK_EXU4TSR"
   },
   "outputs": [],
   "source": [
    "from sklearn.cluster import KMeans\n",
    "from sklearn.cluster import AgglomerativeClustering \n",
    "from scipy.cluster import hierarchy \n",
    "from scipy.spatial import distance_matrix \n",
    "from scipy.cluster.hierarchy import dendrogram, linkage\n",
    "\n",
    "import numpy as np \n",
    "import pandas as pd\n",
    "import matplotlib.pyplot as plt\n",
    "import plotly.express as px\n",
    "import seaborn as sns\n",
    "%matplotlib inline \n",
    "\n",
    "import os\n",
    "import warnings\n",
    "\n",
    "\n",
    "warnings.filterwarnings('ignore')"
   ]
  },
  {
   "cell_type": "markdown",
   "metadata": {
    "id": "zdopYNRe4TSS"
   },
   "source": [
    "**Завдання 0** \n",
    "\n",
    "Для початку необхідно завантажити вибірку `Mall_Customers` і перейменувати атрибути `Annual Income (k$)` в `Income`,`Spending Score (1-100)` в `SpendingScore`"
   ]
  },
  {
   "cell_type": "code",
   "execution_count": null,
   "metadata": {
    "id": "z9wqM0an4TSS"
   },
   "outputs": [],
   "source": [
    "customer_set = pd.read_csv(\"Mall_Customers.csv\")\n",
    "customer_set.rename(columns={\"Annual Income (k$)\": \"Income\", \"Spending Score (1-100)\": \"SpendingScore\"}, inplace=\"True\")\n",
    "customer_set.head()"
   ]
  },
  {
   "cell_type": "markdown",
   "metadata": {
    "id": "3-eFDgek4TSS"
   },
   "source": [
    "**Завдання 1** \n",
    "\n",
    "Підготовка даних до опрацювання\n",
    "\n",
    "* подивитись які атрибути містить вибірка; \n",
    "* вивести розмірність датасету;\n",
    "* вивести основну статистичну інформацію по числовим змінним;  \n",
    "* перевірити на наявність `NaN`.   "
   ]
  },
  {
   "cell_type": "code",
   "execution_count": null,
   "metadata": {
    "id": "B7p72CWi4TST"
   },
   "outputs": [],
   "source": [
    "customer_set.columns"
   ]
  },
  {
   "cell_type": "code",
   "execution_count": null,
   "metadata": {},
   "outputs": [],
   "source": [
    "customer_set.shape"
   ]
  },
  {
   "cell_type": "code",
   "execution_count": null,
   "metadata": {},
   "outputs": [],
   "source": [
    "customer_set.describe()"
   ]
  },
  {
   "cell_type": "code",
   "execution_count": null,
   "metadata": {},
   "outputs": [],
   "source": [
    "customer_set.isnull().sum()"
   ]
  },
  {
   "cell_type": "markdown",
   "metadata": {
    "id": "65aS-QXQ4TST"
   },
   "source": [
    "## EDA Mall Customers"
   ]
  },
  {
   "cell_type": "markdown",
   "metadata": {
    "id": "7mBtcoPf4TST"
   },
   "source": [
    "**Завдання 2** \n",
    "\n",
    "Як Ви могли помітити по статистичній аналітиці вибірки вона містить змінну `CustomerID`. Ця змінна не впливає на аналіз даних тому її можна видалити."
   ]
  },
  {
   "cell_type": "code",
   "execution_count": null,
   "metadata": {
    "id": "kSVPVGKO4TSU"
   },
   "outputs": [],
   "source": [
    "customer_set = customer_set.drop('CustomerID', axis=1)\n",
    "customer_set.head()"
   ]
  },
  {
   "cell_type": "markdown",
   "metadata": {
    "id": "zEDPZAqM4TSU"
   },
   "source": [
    "**Завдання 3** \n",
    "\n",
    "Побудувати діаграми розподілу по змінним `Age` , `Income` та `SpendingScore`"
   ]
  },
  {
   "cell_type": "code",
   "execution_count": null,
   "metadata": {
    "id": "51CRjSYR4TSU"
   },
   "outputs": [],
   "source": [
    "f, ax = plt.subplots(3,1,figsize=(30,20))\n",
    "sns.countplot(customer_set['Age'], ax=ax[0])\n",
    "sns.countplot(customer_set['Income'], ax=ax[1])\n",
    "sns.countplot(customer_set['SpendingScore'], ax=ax[2])\n",
    "plt.show()"
   ]
  },
  {
   "cell_type": "markdown",
   "metadata": {
    "id": "C5RC0rZN4TSU"
   },
   "source": [
    "**Завдання 4** \n",
    "\n",
    "Давайте подивимось на ці змінні `Age` , `Income` та `SpendingScore` відносно змінної `Gender`. \n",
    "* Побудуємо `pairplot` по всім змінним відностно змінної `Gender`:  \n",
    " \n",
    "* Побудуємо `pairplot` використовуючи `sns.PairGrid` із заданими `(scatterplot)`, `(kdeplot)` та `(kdeplot, lw=1)` по відповідно правому верхньому куту, діагоналі і лівому нижньому кутут відносно змінної `Gender`:  \n",
    " "
   ]
  },
  {
   "cell_type": "code",
   "execution_count": null,
   "metadata": {
    "id": "5gfob8rc4TSU"
   },
   "outputs": [],
   "source": [
    "g = sns.PairGrid(customer_set[['Age','Income','SpendingScore','Gender']], hue=\"Gender\", height=4)\n",
    "\n",
    "g.map_upper(sns.scatterplot)\n",
    "g.map_diag(sns.kdeplot)\n",
    "g.map_lower(sns.kdeplot,lw=1)\n",
    "g.add_legend()\n",
    "\n",
    "plt.tight_layout()"
   ]
  },
  {
   "cell_type": "markdown",
   "metadata": {
    "id": "Cjcpwujr4TSV"
   },
   "source": [
    "**Висновки з 1-4 завдання (детальні)**"
   ]
  },
  {
   "cell_type": "markdown",
   "metadata": {
    "id": "iwfXWInJ4TSV"
   },
   "source": [
    "1. Датасет має 200 рядків, та не має пропусків даних. Змінили назви колонок та видалили `CustomerID`, яка не містить важливої інформації\n",
    "2. Побудувавши діаграми розподілу не вдалось виявити якусь тенденцію по цих змінних\n",
    "3. На графіку `pairplot` ми спостергіаємо за тим як відрізняються дані в залежності від статі. За допомогою цього графіка ми зобразили кожен атрибут у трьох різних представленнях."
   ]
  },
  {
   "cell_type": "markdown",
   "metadata": {
    "id": "-xh6UwiQ4TSV"
   },
   "source": [
    "**Завдання 5** \n",
    "\n",
    "Проаналізувати змінну `Gender`:\n",
    "* вивести співвідношення по статям;\n",
    "* побудувати `countplot` по `Gender`;  \n",
    "* побудувати `pie`по `Gender'.  "
   ]
  },
  {
   "cell_type": "code",
   "execution_count": null,
   "metadata": {
    "id": "fB-jtWvy4TSV"
   },
   "outputs": [],
   "source": [
    "f, ax = plt.subplots(1,2,figsize=(20,5))\n",
    "sns.countplot(customer_set['Gender'], ax=ax[0])\n",
    "customer_set['Gender'].value_counts().plot.pie(autopct='%.1f%%', ax=ax[1])\n",
    "plt.show()"
   ]
  },
  {
   "cell_type": "markdown",
   "metadata": {
    "id": "KfFfWN5S4TSW"
   },
   "source": [
    "**Завдання 6** \n",
    "\n",
    "Побудувати гістограми [histplot](https://seaborn.pydata.org/generated/seaborn.histplot.html) змінних `Age` та `Income` відносно змінної `Gender` з різними параметрами:\n",
    "*  подивитись на скільки змінюється візуалізація при різних значеннях параметра `multiple`, наприклад `dodge` та `layer`."
   ]
  },
  {
   "cell_type": "code",
   "execution_count": null,
   "metadata": {
    "id": "UL4LYjfG4TSW"
   },
   "outputs": [],
   "source": [
    "f, ax = plt.subplots(2,2,figsize=(30,10))\n",
    "sns.histplot(x='Age',data=customer_set, hue='Gender',ax=ax[0,0], multiple='dodge')\n",
    "ax[0,0].set_title('Age by Gender dodge')\n",
    "sns.histplot(x='Age',data=customer_set, hue='Gender',ax=ax[0,1], multiple='layer')\n",
    "ax[0,1].set_title('Age by Gender layer')\n",
    "\n",
    "sns.histplot(x='Income',data=customer_set, hue='Gender', ax=ax[1,0], multiple='dodge')\n",
    "ax[1,0].set_title('Income by Gender dodge')\n",
    "sns.histplot(x='Income',data=customer_set, hue='Gender', ax=ax[1,1], multiple='layer')\n",
    "ax[1,1].set_title('Income by Gender layer')\n",
    "\n",
    "plt.show()"
   ]
  },
  {
   "cell_type": "markdown",
   "metadata": {
    "id": "j53TlSH14TSW"
   },
   "source": [
    "**Завдання 7** \n",
    "\n",
    "Побудувати гістограми [histplot](https://seaborn.pydata.org/generated/seaborn.histplot.html) змінної `SpendingScore` відносно змінної `Gender` з різними параметрами:  \n",
    "* подивитись на скільки змінюється візуалізація при різних значеннях параметра `multiple`, наприклад `dodge` та `layer`. \n",
    "\n"
   ]
  },
  {
   "cell_type": "code",
   "execution_count": null,
   "metadata": {
    "id": "uy3z8Bwe4TSX"
   },
   "outputs": [],
   "source": [
    "f, ax = plt.subplots(1,2,figsize=(30,10))\n",
    "sns.histplot(x='SpendingScore',data=customer_set, hue='Gender',ax=ax[0], multiple='dodge')\n",
    "ax[0].set_title('SpendingScore by Gender dodge')\n",
    "sns.histplot(x='SpendingScore',data=customer_set, hue='Gender',ax=ax[1], multiple='layer')\n",
    "ax[1].set_title('SpendingScore by Gender layer')\n",
    "\n",
    "plt.show()"
   ]
  },
  {
   "cell_type": "markdown",
   "metadata": {
    "id": "xsq41obt4TSX"
   },
   "source": [
    "**Завдання 8** \n",
    "\n",
    "Побудувати `boxplot` по змінній `SpendingScore` і подивитись як відрізняються витрати відностно змінної `Gender`. "
   ]
  },
  {
   "cell_type": "code",
   "execution_count": null,
   "metadata": {
    "id": "CCmlneOA4TSX"
   },
   "outputs": [],
   "source": [
    "plt.figure(figsize=(20,5))\n",
    "sns.boxplot(x='SpendingScore', data=customer_set, y='Gender')\n",
    "\n",
    "plt.show()"
   ]
  },
  {
   "cell_type": "markdown",
   "metadata": {
    "id": "xmxGHifX4TSW"
   },
   "source": [
    "**Висновки з завдання 5 - 8(детальні)**"
   ]
  },
  {
   "cell_type": "markdown",
   "metadata": {
    "id": "thxjHOvx4TSW"
   },
   "source": [
    "1.   Яке співвідношення груп чоловіків та жінок?\n",
    "\n",
    "    кількість чоловіків та жінок майже однакова: 56% жінок та 44% чоловіків\n",
    "    \n",
    "2.  Подивитись які можна виділити групи і як розподілені витрати відностно статі людини? Чи є різниця між витратами у чоловіків та жінок?\n",
    "    \n",
    "    Дивлячись на графік розподілення витрат, можна припустити що жінки витрачають частіше за чоловіків. Також, це можна помітити дивлячись на  `boxplot` - рівень витрат жінок більший ніж чоловіків. Крім цього, можна розбити на дві групи людей - ті хто працюють, та ті хто на пенсії.  Наприклад, на графіку прибутку можемо бачити, що прибуток з віком 80 різко падає."
   ]
  },
  {
   "cell_type": "markdown",
   "metadata": {
    "id": "dfVNEoZP4TSX"
   },
   "source": [
    "## K-means Method ##"
   ]
  },
  {
   "cell_type": "markdown",
   "metadata": {
    "id": "be2FdcU_4TSX"
   },
   "source": [
    "**Завдання 9** \n",
    "\n",
    "Як Ви могли помітити, вибірка, з якою ми працюємо, не містить ключової зміної з вірними мітками. Тому перед початком кластерування необхідно визначити (підібрати) оптимальну кількість кластерів на яке буде проведено розбиття. Для цього необхідно:\n",
    "1. видалити змінну `Gender`, тому що ... **Чому?**;  \n",
    "2. задати мінімальну та максимальну кількість кластерів самостійно;  \n",
    "3. На прикладі алгоритму [KMeans](https://scikit-learn.org/stable/modules/generated/sklearn.cluster.KMeans.html), для ознайомлення з тим як працювати в умовах коли кількість кластерів невідома заздалегіть і немає вірних міток з позначками до якого кластеру відноситься спостереження пропонується використати метод [Elbow](https://coderoad.ru/19197715/Scikit-Learn-K-Means-Elbow-criterion) (додаткові джерела: [article_1](https://medium.com/analytics-vidhya/elbow-method-of-k-means-clustering-algorithm-a0c916adc540#:~:text=K%2Dmeans%20clustering%20is%20an,cluster%20with%20the%20nearest%20centroid.), [article_2](https://www.geeksforgeeks.org/elbow-method-for-optimal-value-of-k-in-kmeans/))"
   ]
  },
  {
   "cell_type": "code",
   "execution_count": null,
   "metadata": {
    "id": "Y6I9Ixob4TSX"
   },
   "outputs": [],
   "source": [
    "X1 = customer_set.drop(['Gender'], axis=1)\n",
    "X2 = X1[['Income','SpendingScore']]\n",
    "clusters = list(range(1, 11))\n",
    "\n",
    "inertias = [KMeans(n_clusters=k).fit(X1).inertia_ for k in clusters]\n",
    "\n",
    "f, ax = plt.subplots(1,2,figsize=(30,10))\n",
    "sns.lineplot(x=clusters, y=inertias, ax=ax[0])\n",
    "ax[0].set_title('Searching for Elbow (Age, Income, SpendingScore)')\n",
    "ax[0].set_xlabel('Clusters')\n",
    "ax[0].set_ylabel('Inertia')\n",
    "\n",
    "inertias = [KMeans(n_clusters=k).fit(X2).inertia_ for k in clusters]\n",
    "\n",
    "sns.lineplot(x=clusters, y=inertias, ax=ax[1])\n",
    "ax[1].set_title('Searching for Elbow (Income, SpendingScore)')\n",
    "ax[1].set_xlabel('Clusters')\n",
    "ax[1].set_ylabel('Inertia')\n",
    "\n",
    "plt.show()"
   ]
  },
  {
   "cell_type": "markdown",
   "metadata": {
    "id": "QFGZUntm4TSY"
   },
   "source": [
    "**Висновки з завдання 9 (детальні)** "
   ]
  },
  {
   "cell_type": "markdown",
   "metadata": {
    "id": "jzeEQGor4TSY"
   },
   "source": [
    "1. Видалив змінну `Gender`, бо немає ніякого сенсу кластеризувати категоріальну змінну, яка не впливає на кількість кластерів\n",
    "\n",
    "2.  Необхідно навести яка кількість кластерів на Вашу думку є оптимальною (краще розглянути для порівняння делька гіпотез про кількість кластерів)\n",
    "\n",
    "Якщо побудувати графік з даними включно з `Age`, то можна висунути гіпотезу що оптимальна кількість кластерів може бути 5 або 6.\n",
    "Але якщо досліджувати кількість кластерів за змінними `Income` та `SpendingScore` допомогою методу критерія ліктя, можна визначити, що оптимальна кількість кластерів дорівнює 5, адже на графіку видно, що після п'ятого кластеру спуск стає менш різким. В даному випадку очевидно, що оптимальна кількість кластерів = 5."
   ]
  },
  {
   "cell_type": "markdown",
   "metadata": {
    "id": "bs-uzU2o4TSY"
   },
   "source": [
    "**Завдання 10** \n",
    "\n",
    "Зробити двовимірну візуалізацію кластеризації методу К-середніх на вибраних Вами двох різних кількостях кластерів використовуючи змінні `Income` та `SpendingScore`. "
   ]
  },
  {
   "cell_type": "code",
   "execution_count": null,
   "metadata": {
    "id": "084XFozG4TSY"
   },
   "outputs": [],
   "source": [
    "data = customer_set[['Income','SpendingScore']]\n",
    "\n",
    "f, ax = plt.subplots(1,3,figsize=(30,8))\n",
    "for k, ax in zip(range(5,8), ax):\n",
    "    kmeans = KMeans(n_clusters=k)\n",
    "    kmeans.fit(data)\n",
    "    data['Cluster'] = kmeans.predict(data)\n",
    "    \n",
    "    sns.scatterplot(data=data, x='Income', y='SpendingScore', hue='Cluster', palette='tab10', ax=ax)\n",
    "    ax.set_title(f\"{k} clusters\")\n",
    "\n",
    "plt.show()"
   ]
  },
  {
   "cell_type": "markdown",
   "metadata": {
    "id": "OOCoaz_jBrm1"
   },
   "source": [
    "**Завдання 11** \n",
    "\n",
    "Зробити візуалізацію кластеризації методу К-середніх на вибраних Вами двох різних кількостях кластерів використовуючи [scatter_3d](https://plotly.com/python/3d-scatter-plots/)."
   ]
  },
  {
   "cell_type": "code",
   "execution_count": null,
   "metadata": {
    "id": "2HJY2prrCRRx"
   },
   "outputs": [],
   "source": [
    "data = customer_set[['Income','SpendingScore', 'Age']]\n",
    "\n",
    "for k in range(5,8,2):\n",
    "    kmeans = KMeans(n_clusters=k)\n",
    "    kmeans.fit(data)\n",
    "    data['Cluster'] = kmeans.predict(data)\n",
    "    \n",
    "    fig = px.scatter_3d(data, x='Income', y='SpendingScore', z='Age', color=\"Cluster\")\n",
    "    fig.show()"
   ]
  },
  {
   "cell_type": "markdown",
   "metadata": {
    "id": "7zROiMqm4TSY"
   },
   "source": [
    "**Висновки з завдання 10 - 11 (детальні)** "
   ]
  },
  {
   "cell_type": "markdown",
   "metadata": {
    "id": "vLh4FNg94TSZ"
   },
   "source": [
    "1. Визначитась з отриманих візуалізацій яка кількість кластерів є оптимальною на Вашу думку і провести аналіз кластерів, що Ви отримали.\n",
    "2.  Дивлячись на 3д візуалізацію кластерів, мені здалось, що найбільш оптимальним варіантом є розподілення на 5 кластерів, але варто зауважити, що варіант із 7-ми кластерами теж виглядає не погано, принаймні  виглядає краще ніж на 2д візуалізації."
   ]
  },
  {
   "cell_type": "markdown",
   "metadata": {
    "id": "XTnWgdZu4TSZ"
   },
   "source": [
    "## Agglomerative clustering ##"
   ]
  },
  {
   "cell_type": "markdown",
   "metadata": {
    "id": "UxAf5wbD4TSZ"
   },
   "source": [
    "Розглянемо ще один підхід до кластеризації - [агломеративну ієрархічну кластеризацію](https://scikit-learn.org/stable/modules/generated/sklearn.cluster.AgglomerativeClustering.html)"
   ]
  },
  {
   "cell_type": "markdown",
   "metadata": {
    "id": "6cn1CLnx4TSZ"
   },
   "source": [
    "**Завдання 12** \n",
    "\n",
    "Кластеризуйте датасет за допомогою [агломеративної ієрархічнуої кластеризації](https://scikit-learn.org/stable/modules/generated/sklearn.cluster.AgglomerativeClustering.html)\n",
    "\n",
    "Мінімально необхідні параметри, що треба налаштувати:  \n",
    "* `n_clusters`: параметр, який відповідає за кільксіть кластерів на яку буде проведено розбиття вибірки;  \n",
    "* `linkage`: параметр зв’язку. Цей параметр визначає, яку відстань використовувати між наборами спостережень.\n",
    "* перевірте як працює цей метод з різними параметрами `linkage`  \n",
    "* після кожної зміни параметрів - візуалізувати розбиття на кластери\n",
    "\n",
    "Розрахувати матрицю відстаней для нашого набору даних:\n",
    "* за допомогою методу [hierarchy.linkage](https://docs.scipy.org/doc/scipy/reference/generated/scipy.cluster.hierarchy.linkage.html) і матриці відстаней кластеризувати дані з різними значеннями параметра `method`\n",
    "* за допомогою методу [hierarchy.dendrogram](https://docs.scipy.org/doc/scipy/reference/generated/scipy.cluster.hierarchy.dendrogram.html) візуалізувати отримані результати кластеризації у вигляді дендрограм\n"
   ]
  },
  {
   "cell_type": "code",
   "execution_count": null,
   "metadata": {
    "id": "zIAeX6C04TSZ"
   },
   "outputs": [],
   "source": [
    "data = customer_set[['Income','SpendingScore']]\n",
    "clusters = list(range(2,11))\n",
    "linkage_params = ['ward', 'complete', 'average', 'single']\n",
    "rows = len(clusters)\n",
    "cols = len(linkage_params)\n",
    "\n",
    "f, ax = plt.subplots(rows,cols,figsize=(30,50))\n",
    "\n",
    "for k, row in zip(clusters, range(rows)):\n",
    "    for linkage, col in zip(linkage_params, range(cols)):\n",
    "        algo = AgglomerativeClustering(n_clusters=k, linkage=linkage)\n",
    "        cluster = algo.fit_predict(data)\n",
    "        sns.scatterplot(data=data, x = 'Income', y='SpendingScore', hue=cluster,  palette ='tab10', ax=ax[row,col])\n",
    "        ax[row,col].set_title(linkage)\n",
    "    ax[row,0].set_ylabel(k)\n",
    "        \n",
    "plt.show()"
   ]
  },
  {
   "cell_type": "code",
   "execution_count": null,
   "metadata": {},
   "outputs": [],
   "source": [
    "from scipy.cluster.hierarchy import dendrogram, linkage\n",
    "for param in linkage_params:\n",
    "    fig = plt.figure(figsize=(30, 10))\n",
    "    dendrogram(linkage(data, param))\n",
    "    plt.show()"
   ]
  },
  {
   "cell_type": "markdown",
   "metadata": {
    "id": "uIwG7UC5F74j"
   },
   "source": [
    "**Висновки з завдання 12 (детальні)**"
   ]
  },
  {
   "cell_type": "markdown",
   "metadata": {
    "id": "2PVDOFV_F74l"
   },
   "source": [
    "1. \n",
    "2.   \n",
    "3. ..."
   ]
  },
  {
   "cell_type": "markdown",
   "metadata": {
    "id": "1nWpSdH94TSZ"
   },
   "source": [
    "**Завдання 13** \n",
    "\n",
    "А тепер зробимо порівняльний аналіз отриманих результатів кластеризації розглянутими методами:  \n",
    "* В фінальних візуалізаціях треба використовувати **однакову** (на вашу думку оптимальну) кількість кластерів!!!  "
   ]
  },
  {
   "cell_type": "code",
   "execution_count": null,
   "metadata": {
    "id": "azRKTu3l4TSa"
   },
   "outputs": [],
   "source": [
    "#yourCode"
   ]
  },
  {
   "cell_type": "markdown",
   "metadata": {
    "id": "M33HoxiB4TSa"
   },
   "source": [
    "**Висновки з завдання 13 (детальні)**"
   ]
  },
  {
   "cell_type": "markdown",
   "metadata": {
    "id": "sXwJtmX04TSa"
   },
   "source": [
    "1. \n",
    "2.   \n",
    "3. ..."
   ]
  }
 ],
 "metadata": {
  "colab": {
   "collapsed_sections": [],
   "name": "Task6_Unsupervised.ipynb",
   "provenance": []
  },
  "kernelspec": {
   "display_name": "Python 3",
   "language": "python",
   "name": "python3"
  },
  "language_info": {
   "codemirror_mode": {
    "name": "ipython",
    "version": 3
   },
   "file_extension": ".py",
   "mimetype": "text/x-python",
   "name": "python",
   "nbconvert_exporter": "python",
   "pygments_lexer": "ipython3",
   "version": "3.8.3"
  }
 },
 "nbformat": 4,
 "nbformat_minor": 4
}
