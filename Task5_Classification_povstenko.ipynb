{
 "cells": [
  {
   "cell_type": "markdown",
   "metadata": {
    "id": "yS3c5TMcysZk"
   },
   "source": [
    "## Лабораторна робота 5. **CLASSIFICATION** 🔵/🔺"
   ]
  },
  {
   "cell_type": "markdown",
   "metadata": {
    "id": "o_YxWfDYysZp"
   },
   "source": [
    "Оцінювання даної роботи буде ураховувати якість Ваших висновків та візуалізацій. При наявності ЛИШЕ коду та візуалізацій без роз'яснень, робота оцінюватися НЕ БУДЕ.  \n",
    "\n",
    "Більшість поставлених в цій лабораторній роботі задач в майбутньому буде ставитись Вами самойстійно!\n",
    "\n",
    "Під час виконання Вам дозволено користуватися будь-якими зручними для вас бібліотеками для візуалізації. \n",
    "\n",
    "Оформлення коментарів повинно проводитися в текстових комірках ноутбука з використанням синтаксису [LaTeX](https://en.wikibooks.org/wiki/LaTeX/Basics) для оформлення тексту та формул. \n",
    "\n",
    "Роботи ідентифіковані як ІДЕНТИЧНІ одразу отримують 0 балів."
   ]
  },
  {
   "cell_type": "markdown",
   "metadata": {
    "id": "ji8bJZmkysZq"
   },
   "source": [
    "# Опис вибірки \"bank-additional-full\""
   ]
  },
  {
   "cell_type": "markdown",
   "metadata": {
    "id": "fN7lEmYNysZq"
   },
   "source": [
    "   # Input variables:\n",
    "   `bank client data:`  \n",
    "   1 - **age** (numeric)  \n",
    "   2 - **job** : type of job (categorical: \"admin.\",\"blue-collar\",\"entrepreneur\",\"housemaid\",\"management\",\"retired\",\"self-employed\",\"services\",\"student\",\"technician\",\"unemployed\",\"unknown\")  \n",
    "   3 - **marital** : marital status (categorical: \"divorced\",\"married\",\"single\",\"unknown\"; note: \"divorced\" means divorced or widowed)  \n",
    "   4 - **education** (categorical: \"basic.4y\",\"basic.6y\",\"basic.9y\",\"high.school\",\"illiterate\",\"professional.course\",\"university.degree\",\"unknown\")  \n",
    "   5 - **default**: has credit in default? (categorical: \"no\",\"yes\",\"unknown\")  \n",
    "   6 - **housing**: has housing loan? (categorical: \"no\",\"yes\",\"unknown\")  \n",
    "   7 - **loan**: has personal loan? (categorical: \"no\",\"yes\",\"unknown\")  \n",
    "   # related with the last contact of the current campaign:  \n",
    "   8 - **contact**: contact communication type (categorical: \"cellular\",\"telephone\")   \n",
    "   9 - **month**: last contact month of year (categorical: \"jan\", \"feb\", \"mar\", ..., \"nov\", \"dec\")  \n",
    "  10 - **day_of_week**: last contact day of the week (categorical: \"mon\",\"tue\",\"wed\",\"thu\",\"fri\")  \n",
    "  11 - **duration**: last contact duration, in seconds (numeric). Important note:  this attribute highly affects the output target (e.g., if duration=0 then y=\"no\"). Yet, the duration is not known before a call is performed. Also, after the end of the call y is obviously known. Thus, this input should only be included for benchmark purposes and should be discarded if the intention is to have a realistic predictive model.  \n",
    "   # other attributes:  \n",
    "  12 - **campaign**: number of contacts performed during this campaign and for this client (numeric, includes last contact)  \n",
    "  13 - **pdays**: number of days that passed by after the client was last contacted from a previous campaign (numeric; 999 means client was not previously contacted)  \n",
    "  14 - **previous**: number of contacts performed before this campaign and for this client (numeric) \n",
    "  15 - **poutcome**: outcome of the previous marketing campaign (categorical: \"failure\",\"nonexistent\",\"success\")  \n",
    "   # social and economic context attributes  \n",
    "  16 - **emp.var.rate**: employment variation rate - quarterly indicator (numeric)  \n",
    "  17 - **cons.price.idx**: consumer price index - monthly indicator (numeric)       \n",
    "  18 - **cons.conf.idx**: consumer confidence index - monthly indicator (numeric)       \n",
    "  19 - **euribor3m**: euribor 3 month rate - daily indicator (numeric)  \n",
    "  20 - **nr.employed**: number of employees - quarterly indicator (numeric)  \n",
    "    \n",
    "   `Output variable (desired target):`  \n",
    "  21 - **y** - has the client subscribed a term deposit? (binary: \"yes\",\"no\")"
   ]
  },
  {
   "cell_type": "markdown",
   "metadata": {
    "id": "BewrKRUIysZr"
   },
   "source": [
    "## Імпорт необхідних бібліотек та завантаження даних"
   ]
  },
  {
   "cell_type": "markdown",
   "metadata": {
    "id": "sxyNYSbRysZr"
   },
   "source": [
    "**Завдання 1** підготовка даних до опрацювання\n",
    "\n",
    "1. завантажте вибірку `bank-additional-full.csv`;   \n",
    "2. підключіть необхідні бібліотеки;  \n",
    "3. вивести основну статистичну інформацію по числовим змінним;  \n",
    "4. вивести розмірність датасету."
   ]
  },
  {
   "cell_type": "code",
   "execution_count": 1,
   "metadata": {
    "id": "8f4DR0U4ysZr"
   },
   "outputs": [],
   "source": [
    "import numpy as np\n",
    "import pandas as pd\n",
    "import matplotlib.pyplot as plt\n",
    "import seaborn as sns\n",
    "from sklearn.preprocessing import LabelEncoder\n",
    "from sklearn.model_selection import train_test_split\n",
    "from sklearn.model_selection import KFold\n",
    "from sklearn.linear_model import LogisticRegression\n",
    "from sklearn.model_selection import cross_val_score\n",
    "from sklearn.metrics import confusion_matrix, accuracy_score\n",
    "from sklearn.model_selection import train_test_split\n",
    "from sklearn.preprocessing import StandardScaler\n",
    "from sklearn import model_selection\n",
    "from sklearn.neighbors import KNeighborsClassifier\n",
    "\n",
    "%matplotlib inline\n",
    "import warnings\n",
    "warnings.filterwarnings('ignore')"
   ]
  },
  {
   "cell_type": "code",
   "execution_count": 2,
   "metadata": {
    "id": "uzAsItFFysZs"
   },
   "outputs": [
    {
     "name": "stdout",
     "output_type": "stream",
     "text": [
      "(41188, 21)\n"
     ]
    },
    {
     "data": {
      "text/html": [
       "<div>\n",
       "<style scoped>\n",
       "    .dataframe tbody tr th:only-of-type {\n",
       "        vertical-align: middle;\n",
       "    }\n",
       "\n",
       "    .dataframe tbody tr th {\n",
       "        vertical-align: top;\n",
       "    }\n",
       "\n",
       "    .dataframe thead th {\n",
       "        text-align: right;\n",
       "    }\n",
       "</style>\n",
       "<table border=\"1\" class=\"dataframe\">\n",
       "  <thead>\n",
       "    <tr style=\"text-align: right;\">\n",
       "      <th></th>\n",
       "      <th>age</th>\n",
       "      <th>job</th>\n",
       "      <th>marital</th>\n",
       "      <th>education</th>\n",
       "      <th>default</th>\n",
       "      <th>housing</th>\n",
       "      <th>loan</th>\n",
       "      <th>contact</th>\n",
       "      <th>month</th>\n",
       "      <th>day_of_week</th>\n",
       "      <th>...</th>\n",
       "      <th>campaign</th>\n",
       "      <th>pdays</th>\n",
       "      <th>previous</th>\n",
       "      <th>poutcome</th>\n",
       "      <th>emp.var.rate</th>\n",
       "      <th>cons.price.idx</th>\n",
       "      <th>cons.conf.idx</th>\n",
       "      <th>euribor3m</th>\n",
       "      <th>nr.employed</th>\n",
       "      <th>y</th>\n",
       "    </tr>\n",
       "  </thead>\n",
       "  <tbody>\n",
       "    <tr>\n",
       "      <th>0</th>\n",
       "      <td>56</td>\n",
       "      <td>housemaid</td>\n",
       "      <td>married</td>\n",
       "      <td>basic.4y</td>\n",
       "      <td>no</td>\n",
       "      <td>no</td>\n",
       "      <td>no</td>\n",
       "      <td>telephone</td>\n",
       "      <td>may</td>\n",
       "      <td>mon</td>\n",
       "      <td>...</td>\n",
       "      <td>1</td>\n",
       "      <td>999</td>\n",
       "      <td>0</td>\n",
       "      <td>nonexistent</td>\n",
       "      <td>1.1</td>\n",
       "      <td>93.994</td>\n",
       "      <td>-36.4</td>\n",
       "      <td>4.857</td>\n",
       "      <td>5191.0</td>\n",
       "      <td>no</td>\n",
       "    </tr>\n",
       "    <tr>\n",
       "      <th>1</th>\n",
       "      <td>57</td>\n",
       "      <td>services</td>\n",
       "      <td>married</td>\n",
       "      <td>high.school</td>\n",
       "      <td>unknown</td>\n",
       "      <td>no</td>\n",
       "      <td>no</td>\n",
       "      <td>telephone</td>\n",
       "      <td>may</td>\n",
       "      <td>mon</td>\n",
       "      <td>...</td>\n",
       "      <td>1</td>\n",
       "      <td>999</td>\n",
       "      <td>0</td>\n",
       "      <td>nonexistent</td>\n",
       "      <td>1.1</td>\n",
       "      <td>93.994</td>\n",
       "      <td>-36.4</td>\n",
       "      <td>4.857</td>\n",
       "      <td>5191.0</td>\n",
       "      <td>no</td>\n",
       "    </tr>\n",
       "    <tr>\n",
       "      <th>2</th>\n",
       "      <td>37</td>\n",
       "      <td>services</td>\n",
       "      <td>married</td>\n",
       "      <td>high.school</td>\n",
       "      <td>no</td>\n",
       "      <td>yes</td>\n",
       "      <td>no</td>\n",
       "      <td>telephone</td>\n",
       "      <td>may</td>\n",
       "      <td>mon</td>\n",
       "      <td>...</td>\n",
       "      <td>1</td>\n",
       "      <td>999</td>\n",
       "      <td>0</td>\n",
       "      <td>nonexistent</td>\n",
       "      <td>1.1</td>\n",
       "      <td>93.994</td>\n",
       "      <td>-36.4</td>\n",
       "      <td>4.857</td>\n",
       "      <td>5191.0</td>\n",
       "      <td>no</td>\n",
       "    </tr>\n",
       "    <tr>\n",
       "      <th>3</th>\n",
       "      <td>40</td>\n",
       "      <td>admin.</td>\n",
       "      <td>married</td>\n",
       "      <td>basic.6y</td>\n",
       "      <td>no</td>\n",
       "      <td>no</td>\n",
       "      <td>no</td>\n",
       "      <td>telephone</td>\n",
       "      <td>may</td>\n",
       "      <td>mon</td>\n",
       "      <td>...</td>\n",
       "      <td>1</td>\n",
       "      <td>999</td>\n",
       "      <td>0</td>\n",
       "      <td>nonexistent</td>\n",
       "      <td>1.1</td>\n",
       "      <td>93.994</td>\n",
       "      <td>-36.4</td>\n",
       "      <td>4.857</td>\n",
       "      <td>5191.0</td>\n",
       "      <td>no</td>\n",
       "    </tr>\n",
       "    <tr>\n",
       "      <th>4</th>\n",
       "      <td>56</td>\n",
       "      <td>services</td>\n",
       "      <td>married</td>\n",
       "      <td>high.school</td>\n",
       "      <td>no</td>\n",
       "      <td>no</td>\n",
       "      <td>yes</td>\n",
       "      <td>telephone</td>\n",
       "      <td>may</td>\n",
       "      <td>mon</td>\n",
       "      <td>...</td>\n",
       "      <td>1</td>\n",
       "      <td>999</td>\n",
       "      <td>0</td>\n",
       "      <td>nonexistent</td>\n",
       "      <td>1.1</td>\n",
       "      <td>93.994</td>\n",
       "      <td>-36.4</td>\n",
       "      <td>4.857</td>\n",
       "      <td>5191.0</td>\n",
       "      <td>no</td>\n",
       "    </tr>\n",
       "  </tbody>\n",
       "</table>\n",
       "<p>5 rows × 21 columns</p>\n",
       "</div>"
      ],
      "text/plain": [
       "   age        job  marital    education  default housing loan    contact  \\\n",
       "0   56  housemaid  married     basic.4y       no      no   no  telephone   \n",
       "1   57   services  married  high.school  unknown      no   no  telephone   \n",
       "2   37   services  married  high.school       no     yes   no  telephone   \n",
       "3   40     admin.  married     basic.6y       no      no   no  telephone   \n",
       "4   56   services  married  high.school       no      no  yes  telephone   \n",
       "\n",
       "  month day_of_week  ...  campaign  pdays  previous     poutcome emp.var.rate  \\\n",
       "0   may         mon  ...         1    999         0  nonexistent          1.1   \n",
       "1   may         mon  ...         1    999         0  nonexistent          1.1   \n",
       "2   may         mon  ...         1    999         0  nonexistent          1.1   \n",
       "3   may         mon  ...         1    999         0  nonexistent          1.1   \n",
       "4   may         mon  ...         1    999         0  nonexistent          1.1   \n",
       "\n",
       "   cons.price.idx  cons.conf.idx  euribor3m  nr.employed   y  \n",
       "0          93.994          -36.4      4.857       5191.0  no  \n",
       "1          93.994          -36.4      4.857       5191.0  no  \n",
       "2          93.994          -36.4      4.857       5191.0  no  \n",
       "3          93.994          -36.4      4.857       5191.0  no  \n",
       "4          93.994          -36.4      4.857       5191.0  no  \n",
       "\n",
       "[5 rows x 21 columns]"
      ]
     },
     "execution_count": 2,
     "metadata": {},
     "output_type": "execute_result"
    }
   ],
   "source": [
    "df = pd.read_csv('bank-additional-full.csv', sep=\";\")\n",
    "print(df.shape)\n",
    "df.head()"
   ]
  },
  {
   "cell_type": "code",
   "execution_count": 3,
   "metadata": {},
   "outputs": [
    {
     "data": {
      "text/html": [
       "<div>\n",
       "<style scoped>\n",
       "    .dataframe tbody tr th:only-of-type {\n",
       "        vertical-align: middle;\n",
       "    }\n",
       "\n",
       "    .dataframe tbody tr th {\n",
       "        vertical-align: top;\n",
       "    }\n",
       "\n",
       "    .dataframe thead th {\n",
       "        text-align: right;\n",
       "    }\n",
       "</style>\n",
       "<table border=\"1\" class=\"dataframe\">\n",
       "  <thead>\n",
       "    <tr style=\"text-align: right;\">\n",
       "      <th></th>\n",
       "      <th>age</th>\n",
       "      <th>duration</th>\n",
       "      <th>campaign</th>\n",
       "      <th>pdays</th>\n",
       "      <th>previous</th>\n",
       "      <th>emp.var.rate</th>\n",
       "      <th>cons.price.idx</th>\n",
       "      <th>cons.conf.idx</th>\n",
       "      <th>euribor3m</th>\n",
       "      <th>nr.employed</th>\n",
       "    </tr>\n",
       "  </thead>\n",
       "  <tbody>\n",
       "    <tr>\n",
       "      <th>count</th>\n",
       "      <td>41188.00000</td>\n",
       "      <td>41188.000000</td>\n",
       "      <td>41188.000000</td>\n",
       "      <td>41188.000000</td>\n",
       "      <td>41188.000000</td>\n",
       "      <td>41188.000000</td>\n",
       "      <td>41188.000000</td>\n",
       "      <td>41188.000000</td>\n",
       "      <td>41188.000000</td>\n",
       "      <td>41188.000000</td>\n",
       "    </tr>\n",
       "    <tr>\n",
       "      <th>mean</th>\n",
       "      <td>40.02406</td>\n",
       "      <td>258.285010</td>\n",
       "      <td>2.567593</td>\n",
       "      <td>962.475454</td>\n",
       "      <td>0.172963</td>\n",
       "      <td>0.081886</td>\n",
       "      <td>93.575664</td>\n",
       "      <td>-40.502600</td>\n",
       "      <td>3.621291</td>\n",
       "      <td>5167.035911</td>\n",
       "    </tr>\n",
       "    <tr>\n",
       "      <th>std</th>\n",
       "      <td>10.42125</td>\n",
       "      <td>259.279249</td>\n",
       "      <td>2.770014</td>\n",
       "      <td>186.910907</td>\n",
       "      <td>0.494901</td>\n",
       "      <td>1.570960</td>\n",
       "      <td>0.578840</td>\n",
       "      <td>4.628198</td>\n",
       "      <td>1.734447</td>\n",
       "      <td>72.251528</td>\n",
       "    </tr>\n",
       "    <tr>\n",
       "      <th>min</th>\n",
       "      <td>17.00000</td>\n",
       "      <td>0.000000</td>\n",
       "      <td>1.000000</td>\n",
       "      <td>0.000000</td>\n",
       "      <td>0.000000</td>\n",
       "      <td>-3.400000</td>\n",
       "      <td>92.201000</td>\n",
       "      <td>-50.800000</td>\n",
       "      <td>0.634000</td>\n",
       "      <td>4963.600000</td>\n",
       "    </tr>\n",
       "    <tr>\n",
       "      <th>25%</th>\n",
       "      <td>32.00000</td>\n",
       "      <td>102.000000</td>\n",
       "      <td>1.000000</td>\n",
       "      <td>999.000000</td>\n",
       "      <td>0.000000</td>\n",
       "      <td>-1.800000</td>\n",
       "      <td>93.075000</td>\n",
       "      <td>-42.700000</td>\n",
       "      <td>1.344000</td>\n",
       "      <td>5099.100000</td>\n",
       "    </tr>\n",
       "    <tr>\n",
       "      <th>50%</th>\n",
       "      <td>38.00000</td>\n",
       "      <td>180.000000</td>\n",
       "      <td>2.000000</td>\n",
       "      <td>999.000000</td>\n",
       "      <td>0.000000</td>\n",
       "      <td>1.100000</td>\n",
       "      <td>93.749000</td>\n",
       "      <td>-41.800000</td>\n",
       "      <td>4.857000</td>\n",
       "      <td>5191.000000</td>\n",
       "    </tr>\n",
       "    <tr>\n",
       "      <th>75%</th>\n",
       "      <td>47.00000</td>\n",
       "      <td>319.000000</td>\n",
       "      <td>3.000000</td>\n",
       "      <td>999.000000</td>\n",
       "      <td>0.000000</td>\n",
       "      <td>1.400000</td>\n",
       "      <td>93.994000</td>\n",
       "      <td>-36.400000</td>\n",
       "      <td>4.961000</td>\n",
       "      <td>5228.100000</td>\n",
       "    </tr>\n",
       "    <tr>\n",
       "      <th>max</th>\n",
       "      <td>98.00000</td>\n",
       "      <td>4918.000000</td>\n",
       "      <td>56.000000</td>\n",
       "      <td>999.000000</td>\n",
       "      <td>7.000000</td>\n",
       "      <td>1.400000</td>\n",
       "      <td>94.767000</td>\n",
       "      <td>-26.900000</td>\n",
       "      <td>5.045000</td>\n",
       "      <td>5228.100000</td>\n",
       "    </tr>\n",
       "  </tbody>\n",
       "</table>\n",
       "</div>"
      ],
      "text/plain": [
       "               age      duration      campaign         pdays      previous  \\\n",
       "count  41188.00000  41188.000000  41188.000000  41188.000000  41188.000000   \n",
       "mean      40.02406    258.285010      2.567593    962.475454      0.172963   \n",
       "std       10.42125    259.279249      2.770014    186.910907      0.494901   \n",
       "min       17.00000      0.000000      1.000000      0.000000      0.000000   \n",
       "25%       32.00000    102.000000      1.000000    999.000000      0.000000   \n",
       "50%       38.00000    180.000000      2.000000    999.000000      0.000000   \n",
       "75%       47.00000    319.000000      3.000000    999.000000      0.000000   \n",
       "max       98.00000   4918.000000     56.000000    999.000000      7.000000   \n",
       "\n",
       "       emp.var.rate  cons.price.idx  cons.conf.idx     euribor3m   nr.employed  \n",
       "count  41188.000000    41188.000000   41188.000000  41188.000000  41188.000000  \n",
       "mean       0.081886       93.575664     -40.502600      3.621291   5167.035911  \n",
       "std        1.570960        0.578840       4.628198      1.734447     72.251528  \n",
       "min       -3.400000       92.201000     -50.800000      0.634000   4963.600000  \n",
       "25%       -1.800000       93.075000     -42.700000      1.344000   5099.100000  \n",
       "50%        1.100000       93.749000     -41.800000      4.857000   5191.000000  \n",
       "75%        1.400000       93.994000     -36.400000      4.961000   5228.100000  \n",
       "max        1.400000       94.767000     -26.900000      5.045000   5228.100000  "
      ]
     },
     "execution_count": 3,
     "metadata": {},
     "output_type": "execute_result"
    }
   ],
   "source": [
    "df.describe()"
   ]
  },
  {
   "cell_type": "code",
   "execution_count": 4,
   "metadata": {},
   "outputs": [
    {
     "data": {
      "text/plain": [
       "age               0\n",
       "job               0\n",
       "marital           0\n",
       "education         0\n",
       "default           0\n",
       "housing           0\n",
       "loan              0\n",
       "contact           0\n",
       "month             0\n",
       "day_of_week       0\n",
       "duration          0\n",
       "campaign          0\n",
       "pdays             0\n",
       "previous          0\n",
       "poutcome          0\n",
       "emp.var.rate      0\n",
       "cons.price.idx    0\n",
       "cons.conf.idx     0\n",
       "euribor3m         0\n",
       "nr.employed       0\n",
       "y                 0\n",
       "dtype: int64"
      ]
     },
     "execution_count": 4,
     "metadata": {},
     "output_type": "execute_result"
    }
   ],
   "source": [
    "df.isna().sum()"
   ]
  },
  {
   "cell_type": "code",
   "execution_count": 5,
   "metadata": {},
   "outputs": [
    {
     "data": {
      "text/plain": [
       "age               0\n",
       "job               0\n",
       "marital           0\n",
       "education         0\n",
       "default           0\n",
       "housing           0\n",
       "loan              0\n",
       "contact           0\n",
       "month             0\n",
       "day_of_week       0\n",
       "duration          0\n",
       "campaign          0\n",
       "pdays             0\n",
       "previous          0\n",
       "poutcome          0\n",
       "emp.var.rate      0\n",
       "cons.price.idx    0\n",
       "cons.conf.idx     0\n",
       "euribor3m         0\n",
       "nr.employed       0\n",
       "y                 0\n",
       "dtype: int64"
      ]
     },
     "execution_count": 5,
     "metadata": {},
     "output_type": "execute_result"
    }
   ],
   "source": [
    "df.isnull().sum()"
   ]
  },
  {
   "cell_type": "markdown",
   "metadata": {
    "id": "DsIS2KLCysZs"
   },
   "source": [
    "**Завдання 2** підготовка цільової змінної  \n",
    "\n",
    "1. проаналізувати атрибути вибірки, визначити цільовий атрибут `target atribute`;\n",
    "2. якщо `target atribute` є категоріальним, його необхідно перетворити в чисельний."
   ]
  },
  {
   "cell_type": "code",
   "execution_count": 6,
   "metadata": {
    "id": "LKsTWBCdysZt"
   },
   "outputs": [
    {
     "data": {
      "text/plain": [
       "0        0\n",
       "1        0\n",
       "2        0\n",
       "3        0\n",
       "4        0\n",
       "        ..\n",
       "41183    1\n",
       "41184    0\n",
       "41185    0\n",
       "41186    1\n",
       "41187    0\n",
       "Length: 41188, dtype: int64"
      ]
     },
     "execution_count": 6,
     "metadata": {},
     "output_type": "execute_result"
    }
   ],
   "source": [
    "bank_target = pd.Series(df['y'].factorize()[0])\n",
    "bank_target"
   ]
  },
  {
   "cell_type": "markdown",
   "metadata": {
    "id": "VHy_NT1aysZt"
   },
   "source": [
    "## Аналіз змінних, які характеризують клієнтів банку:"
   ]
  },
  {
   "cell_type": "markdown",
   "metadata": {
    "id": "GDSktQp_ysZt"
   },
   "source": [
    "**Завдання 3** Визначитись зі всіма атрибутами, що характреризують кліентів банку:\n",
    "- виділити їх в окрему частину;\n",
    "- первірити всі змінні (які унікальні значення містять атрибути)(дивись опис датасету)."
   ]
  },
  {
   "cell_type": "code",
   "execution_count": 7,
   "metadata": {
    "id": "lku0lnRIysZt"
   },
   "outputs": [
    {
     "data": {
      "text/html": [
       "<div>\n",
       "<style scoped>\n",
       "    .dataframe tbody tr th:only-of-type {\n",
       "        vertical-align: middle;\n",
       "    }\n",
       "\n",
       "    .dataframe tbody tr th {\n",
       "        vertical-align: top;\n",
       "    }\n",
       "\n",
       "    .dataframe thead th {\n",
       "        text-align: right;\n",
       "    }\n",
       "</style>\n",
       "<table border=\"1\" class=\"dataframe\">\n",
       "  <thead>\n",
       "    <tr style=\"text-align: right;\">\n",
       "      <th></th>\n",
       "      <th>age</th>\n",
       "      <th>job</th>\n",
       "      <th>marital</th>\n",
       "      <th>education</th>\n",
       "      <th>default</th>\n",
       "      <th>housing</th>\n",
       "      <th>loan</th>\n",
       "    </tr>\n",
       "  </thead>\n",
       "  <tbody>\n",
       "    <tr>\n",
       "      <th>0</th>\n",
       "      <td>56</td>\n",
       "      <td>housemaid</td>\n",
       "      <td>married</td>\n",
       "      <td>basic.4y</td>\n",
       "      <td>no</td>\n",
       "      <td>no</td>\n",
       "      <td>no</td>\n",
       "    </tr>\n",
       "    <tr>\n",
       "      <th>1</th>\n",
       "      <td>57</td>\n",
       "      <td>services</td>\n",
       "      <td>married</td>\n",
       "      <td>high.school</td>\n",
       "      <td>unknown</td>\n",
       "      <td>no</td>\n",
       "      <td>no</td>\n",
       "    </tr>\n",
       "    <tr>\n",
       "      <th>2</th>\n",
       "      <td>37</td>\n",
       "      <td>services</td>\n",
       "      <td>married</td>\n",
       "      <td>high.school</td>\n",
       "      <td>no</td>\n",
       "      <td>yes</td>\n",
       "      <td>no</td>\n",
       "    </tr>\n",
       "    <tr>\n",
       "      <th>3</th>\n",
       "      <td>40</td>\n",
       "      <td>admin.</td>\n",
       "      <td>married</td>\n",
       "      <td>basic.6y</td>\n",
       "      <td>no</td>\n",
       "      <td>no</td>\n",
       "      <td>no</td>\n",
       "    </tr>\n",
       "    <tr>\n",
       "      <th>4</th>\n",
       "      <td>56</td>\n",
       "      <td>services</td>\n",
       "      <td>married</td>\n",
       "      <td>high.school</td>\n",
       "      <td>no</td>\n",
       "      <td>no</td>\n",
       "      <td>yes</td>\n",
       "    </tr>\n",
       "  </tbody>\n",
       "</table>\n",
       "</div>"
      ],
      "text/plain": [
       "   age        job  marital    education  default housing loan\n",
       "0   56  housemaid  married     basic.4y       no      no   no\n",
       "1   57   services  married  high.school  unknown      no   no\n",
       "2   37   services  married  high.school       no     yes   no\n",
       "3   40     admin.  married     basic.6y       no      no   no\n",
       "4   56   services  married  high.school       no      no  yes"
      ]
     },
     "execution_count": 7,
     "metadata": {},
     "output_type": "execute_result"
    }
   ],
   "source": [
    "bank_client = df[['age', 'job', 'marital', 'education', 'default', 'housing', 'loan']]\n",
    "bank_client.head()"
   ]
  },
  {
   "cell_type": "code",
   "execution_count": 8,
   "metadata": {},
   "outputs": [
    {
     "name": "stdout",
     "output_type": "stream",
     "text": [
      "\n",
      "age\n",
      "[17, 18, 19, 20, 21, 22, 23, 24, 25, 26, 27, 28, 29, 30, 31, 32, 33, 34, 35, 36, 37, 38, 39, 40, 41, 42, 43, 44, 45, 46, 47, 48, 49, 50, 51, 52, 53, 54, 55, 56, 57, 58, 59, 60, 61, 62, 63, 64, 65, 66, 67, 68, 69, 70, 71, 72, 73, 74, 75, 76, 77, 78, 79, 80, 81, 82, 83, 84, 85, 86, 87, 88, 89, 91, 92, 94, 95, 98]\n",
      "\n",
      "job\n",
      "['admin.', 'blue-collar', 'entrepreneur', 'housemaid', 'management', 'retired', 'self-employed', 'services', 'student', 'technician', 'unemployed', 'unknown']\n",
      "\n",
      "marital\n",
      "['divorced', 'married', 'single', 'unknown']\n",
      "\n",
      "education\n",
      "['basic.4y', 'basic.6y', 'basic.9y', 'high.school', 'illiterate', 'professional.course', 'university.degree', 'unknown']\n",
      "\n",
      "default\n",
      "['no', 'unknown', 'yes']\n",
      "\n",
      "housing\n",
      "['no', 'unknown', 'yes']\n",
      "\n",
      "loan\n",
      "['no', 'unknown', 'yes']\n"
     ]
    }
   ],
   "source": [
    "def unique_vals(df: pd.DataFrame):\n",
    "    for var in df:\n",
    "        print(f\"\\n{var}\\n{sorted(bank_client[var].unique())}\")\n",
    "\n",
    "unique_vals(bank_client);"
   ]
  },
  {
   "cell_type": "markdown",
   "metadata": {
    "id": "zfKF4TiAysZt"
   },
   "source": [
    "**Завдання 4** Аналіз атрибуту `Age`:  \n",
    "1. Вивести максимальне та мінімальне значення;  \n",
    "2. Перевірити на наявність `NaN`;  \n",
    "3. Провести візуальний аналіз зміної `Age`:\n",
    "    - побудувати `countplot`, `boxplot`, `distplot`;\n",
    "    - перевірити розподіл по змінній `Age` на важкі хвости."
   ]
  },
  {
   "cell_type": "code",
   "execution_count": 9,
   "metadata": {},
   "outputs": [
    {
     "name": "stdout",
     "output_type": "stream",
     "text": [
      "Min: 17        \n",
      "Max: 98        \n",
      "NaN: 0\n"
     ]
    }
   ],
   "source": [
    "def var_min_max_nan(df: pd.DataFrame, var: str):\n",
    "    print(f\"Min: {df[var].min()}\\\n",
    "        \\nMax: {df[var].max()}\\\n",
    "        \\nNaN: {df[var].isna().sum()}\")\n",
    "\n",
    "var_min_max_nan(bank_client, 'age')"
   ]
  },
  {
   "cell_type": "code",
   "execution_count": 10,
   "metadata": {},
   "outputs": [
    {
     "name": "stdout",
     "output_type": "stream",
     "text": [
      "Age Skew: 0.7846968157646645\n"
     ]
    },
    {
     "data": {
      "image/png": "[encoded data removed]",
      "text/plain": [
       "<Figure size 2160x720 with 2 Axes>"
      ]
     },
     "metadata": {
      "needs_background": "light"
     },
     "output_type": "display_data"
    },
    {
     "data": {
      "image/png": "[encoded data removed]",
      "text/plain": [
       "<Figure size 864x432 with 1 Axes>"
      ]
     },
     "metadata": {
      "needs_background": "light"
     },
     "output_type": "display_data"
    }
   ],
   "source": [
    "fig, ax = plt.subplots(1, 2, figsize=(30, 10))\n",
    "sns.countplot(bank_client.age, ax=ax[0])\n",
    "sns.distplot(bank_client.age, ax=ax[1])\n",
    "\n",
    "plt.figure(figsize=(12, 6))\n",
    "sns.boxplot(bank_client.age)\n",
    "\n",
    "print(\"Age Skew:\", bank_client.age.skew())\n",
    "plt.show()"
   ]
  },
  {
   "cell_type": "markdown",
   "metadata": {
    "id": "P_2Fdjg8ysZu"
   },
   "source": [
    "**Висновки з 1-4 завдання (детальні)**"
   ]
  },
  {
   "cell_type": "markdown",
   "metadata": {
    "id": "6MRw2gFlysZu"
   },
   "source": [
    "1. імпортували датасет, вивели основну статистичну інформацію, виявлено, що датасет не містить пропусків.\n",
    "2. вивів унікальні значення атрибутів, що характеризують клієнтів, та переконався що вони відповідають зазначеним у описі датасету\n",
    "3. з графіків та коефіцієнту скошеності видно що змінна `Age` має важкий правий хвіст, який, на мою думку, можна не розглядати, адже там дуже мало даних.\n",
    "4. дані мають скошений розподіл, близький до нормального. на графіку `displot` помітний завал по середині, але він не достатньо великий щоб розподіл був бімодальним."
   ]
  },
  {
   "cell_type": "markdown",
   "metadata": {
    "id": "LHo0NoTHysZu"
   },
   "source": [
    "**Завдання 5** Перевірити атрибут `Age` на викиди: "
   ]
  },
  {
   "cell_type": "code",
   "execution_count": 13,
   "metadata": {
    "id": "9iXl-Y4OysZu"
   },
   "outputs": [],
   "source": [
    "def detect_outliers_with_interquantile_range(df: pd.DataFrame,\n",
    "                                             column: str,\n",
    "                                             low_percentile: int,\n",
    "                                             high_percentile: int) -> pd.DataFrame:\n",
    "    \"\"\"\n",
    "    Detecting outliers using interquantile range set manually\n",
    "\n",
    "    df: pd.DataFrame to detect outliers\n",
    "    column: target column\n",
    "    low_percentile: lower bound between 0 and 100\n",
    "    high_percentile: upper bound between 0 and 100\n",
    "\n",
    "    returns: pd.DataFrame with detected outliers\n",
    "\n",
    "    \"\"\"\n",
    "\n",
    "    sorted_data = np.sort(df[column])\n",
    "    # Calculate Q1, Q2, Q3 and IQR.\n",
    "    Q1 = np.percentile(sorted_data, low_percentile)\n",
    "    Q3 = np.percentile(sorted_data, high_percentile)\n",
    "    print('')\n",
    "    print(f\"Q1 {low_percentile} percentile of the given data: {Q1}\")\n",
    "    print('')\n",
    "    print(f\"Q3 {high_percentile} percentile of the given data: {Q3}\")\n",
    "    print('')\n",
    "    print('----------------------------------------------------------')\n",
    "\n",
    "    IQR = Q3 - Q1\n",
    "    print('')\n",
    "    print(f\"Interquantile range: {IQR}\")\n",
    "    print('')\n",
    "    print('----------------------------------------------------------')\n",
    "    low_lim = Q1 - 1.5*IQR\n",
    "    up_lim = Q3 + 1.5*IQR\n",
    "    print('')\n",
    "    print(f\" Lower bound: {low_lim}\")\n",
    "    print('')\n",
    "    print(f\" Upper bound: {up_lim}\")\n",
    "    print('')\n",
    "    print('----------------------------------------------------------')\n",
    "    outliers = df[(df[column] > up_lim) | (df[column] < low_lim)]\n",
    "    print('')\n",
    "    print(f\"Outliers in the dataset:\")\n",
    "    display(outliers)\n",
    "\n",
    "    return outliers"
   ]
  },
  {
   "cell_type": "code",
   "execution_count": 14,
   "metadata": {
    "id": "gc_oPZJMysZv"
   },
   "outputs": [
    {
     "name": "stdout",
     "output_type": "stream",
     "text": [
      "\n",
      "Q1 10 percentile of the given data: 28.0\n",
      "\n",
      "Q3 90 percentile of the given data: 55.0\n",
      "\n",
      "----------------------------------------------------------\n",
      "\n",
      "Interquantile range: 27.0\n",
      "\n",
      "----------------------------------------------------------\n",
      "\n",
      " Lower bound: -12.5\n",
      "\n",
      " Upper bound: 95.5\n",
      "\n",
      "----------------------------------------------------------\n",
      "\n",
      "Outliers in the dataset:\n"
     ]
    },
    {
     "data": {
      "text/html": [
       "<div>\n",
       "<style scoped>\n",
       "    .dataframe tbody tr th:only-of-type {\n",
       "        vertical-align: middle;\n",
       "    }\n",
       "\n",
       "    .dataframe tbody tr th {\n",
       "        vertical-align: top;\n",
       "    }\n",
       "\n",
       "    .dataframe thead th {\n",
       "        text-align: right;\n",
       "    }\n",
       "</style>\n",
       "<table border=\"1\" class=\"dataframe\">\n",
       "  <thead>\n",
       "    <tr style=\"text-align: right;\">\n",
       "      <th></th>\n",
       "      <th>age</th>\n",
       "      <th>job</th>\n",
       "      <th>marital</th>\n",
       "      <th>education</th>\n",
       "      <th>default</th>\n",
       "      <th>housing</th>\n",
       "      <th>loan</th>\n",
       "    </tr>\n",
       "  </thead>\n",
       "  <tbody>\n",
       "    <tr>\n",
       "      <th>38452</th>\n",
       "      <td>98</td>\n",
       "      <td>retired</td>\n",
       "      <td>married</td>\n",
       "      <td>basic.4y</td>\n",
       "      <td>unknown</td>\n",
       "      <td>yes</td>\n",
       "      <td>no</td>\n",
       "    </tr>\n",
       "    <tr>\n",
       "      <th>38455</th>\n",
       "      <td>98</td>\n",
       "      <td>retired</td>\n",
       "      <td>married</td>\n",
       "      <td>basic.4y</td>\n",
       "      <td>unknown</td>\n",
       "      <td>yes</td>\n",
       "      <td>no</td>\n",
       "    </tr>\n",
       "  </tbody>\n",
       "</table>\n",
       "</div>"
      ],
      "text/plain": [
       "       age      job  marital education  default housing loan\n",
       "38452   98  retired  married  basic.4y  unknown     yes   no\n",
       "38455   98  retired  married  basic.4y  unknown     yes   no"
      ]
     },
     "metadata": {},
     "output_type": "display_data"
    }
   ],
   "source": [
    "outliers = detect_outliers_with_interquantile_range(bank_client, 'age', 10, 90)"
   ]
  },
  {
   "cell_type": "markdown",
   "metadata": {
    "id": "PN-ypxmiysZv"
   },
   "source": [
    "**Висновки з завдання 5 (детальні)**"
   ]
  },
  {
   "cell_type": "markdown",
   "metadata": {
    "id": "vJzhjPQ_ysZv"
   },
   "source": [
    "1. для того щоб знайти викиди в датасеті, треба відсортувати дані, знайти квартилі Q1 та Q3, вирахувати IQR та верхню і нижню границю за формулами. Ві дані, які знаходяться за границями - є викидами"
   ]
  },
  {
   "cell_type": "markdown",
   "metadata": {
    "id": "llohM2tDysZv"
   },
   "source": [
    "**Завдання 6** Аналіз атрибутів `job`, `marital` та `education`:  \n",
    "- Побудувати графіки розподілу даних по цим змінним."
   ]
  },
  {
   "cell_type": "code",
   "execution_count": 55,
   "metadata": {
    "id": "Srz_q9wSysZw"
   },
   "outputs": [
    {
     "data": {
      "image/png": "[encoded data removed]",
      "text/plain": [
       "<Figure size 2160x2160 with 3 Axes>"
      ]
     },
     "metadata": {
      "needs_background": "light"
     },
     "output_type": "display_data"
    }
   ],
   "source": [
    "plt.figure(figsize=(30, 30))\n",
    "grid = plt.GridSpec(2, 2, wspace=0.1, hspace=0.1)\n",
    "ax = [plt.subplot(grid[0, 0]),\n",
    "      plt.subplot(grid[0, 1]),\n",
    "      plt.subplot(grid[1, :])]\n",
    "\n",
    "for var, ax in zip(bank_client[['job', 'marital', 'education']], ax):\n",
    "    sns.countplot(x=bank_client[var], ax=ax).set_title(var)\n",
    "\n",
    "plt.show()"
   ]
  },
  {
   "cell_type": "markdown",
   "metadata": {
    "id": "_HoSeGyxysZw"
   },
   "source": [
    "**Висновки з завдання 6 (детальні)**"
   ]
  },
  {
   "cell_type": "markdown",
   "metadata": {
    "id": "ED3cGHeVysZw"
   },
   "source": [
    "1. з графіків ми можемо спостерігати за розподілом даних.\n",
    "2. На всіх графіках відносно мала кількість невідомих даних.\n",
    "3. Дані розподілено не рівномірно"
   ]
  },
  {
   "cell_type": "markdown",
   "metadata": {
    "id": "jw3sXGn5ysZw"
   },
   "source": [
    "**Завдання 7** Аналіз атрибутів `default`, `housing` та `loan`:  \n",
    "- Побудувати графіки розподілу даних по цим змінним."
   ]
  },
  {
   "cell_type": "code",
   "execution_count": 59,
   "metadata": {
    "id": "ZY9DAx6jysZx"
   },
   "outputs": [
    {
     "data": {
      "image/png": "[encoded data removed]",
      "text/plain": [
       "<Figure size 2160x720 with 3 Axes>"
      ]
     },
     "metadata": {
      "needs_background": "light"
     },
     "output_type": "display_data"
    }
   ],
   "source": [
    "f, ax = plt.subplots(1, 3, figsize=(30, 10))\n",
    "\n",
    "for var, ax in zip(bank_client[['default', 'housing', 'loan']], ax):\n",
    "    sns.countplot(x=bank_client[var], ax=ax).set_title(var)\n",
    "\n",
    "plt.show()"
   ]
  },
  {
   "cell_type": "markdown",
   "metadata": {
    "id": "wYtREfcJysZx"
   },
   "source": [
    "**Завдання 8** Змінні **Jobs, Marital, Education, Default, Housing, Loan** трансформувати в неперервні змінні:"
   ]
  },
  {
   "cell_type": "code",
   "execution_count": 70,
   "metadata": {
    "id": "Wsg4TFQzysZx"
   },
   "outputs": [],
   "source": [
    "def encode_categorical_columns(df: pd.DataFrame, categorical_cols: list) -> pd.DataFrame:\n",
    "    \"\"\"\n",
    "    Function for encoding categorical features using LabelEncoder\n",
    "    \n",
    "    df: pd.DataFrame to encode\n",
    "    categorical_cols: specified columns to encode\n",
    "    \n",
    "    returns: pd.DataFrame with encoded values\n",
    "    \"\"\"\n",
    "    for col in categorical_cols:\n",
    "      # Leaves NaN as it is.\n",
    "        le = LabelEncoder()\n",
    "        not_null = df[col][df[col].notnull()]\n",
    "        df[col] = le.fit_transform(not_null)\n",
    "      \n",
    "    return df"
   ]
  },
  {
   "cell_type": "code",
   "execution_count": 72,
   "metadata": {
    "id": "pInQzFcxysZx"
   },
   "outputs": [],
   "source": [
    "bank_client = encode_categorical_columns(bank_client, ['job', 'marital', 'education', 'default', 'housing',  'loan'])"
   ]
  },
  {
   "cell_type": "markdown",
   "metadata": {
    "id": "qY0ybijaysZy"
   },
   "source": [
    "**Завдання 9** Трансфомувати змінну **Age** (використовуючи її квартильні значення):\n",
    "\n",
    "\n"
   ]
  },
  {
   "cell_type": "code",
   "execution_count": null,
   "metadata": {
    "id": "jKCNuX1YysZy"
   },
   "outputs": [],
   "source": [
    "def encode_age(dataframe: pd.DataFrame, age_col: str ) -> pd.DataFrame:\n",
    "  \"\"\"\n",
    "  Function for encoding age column\n",
    "    \n",
    "  df: pd.DataFrame to encode\n",
    "  age_col: age col to encode \n",
    "  \"\"\"\n",
    "  #code\n",
    "          \n",
    "  return dataframe"
   ]
  },
  {
   "cell_type": "code",
   "execution_count": null,
   "metadata": {
    "id": "FexEyw5BysZy"
   },
   "outputs": [],
   "source": [
    "bank_client = encode_age(bank_client, 'age')"
   ]
  },
  {
   "cell_type": "markdown",
   "metadata": {
    "id": "9F2SI64JysZy"
   },
   "source": [
    "**Висновки з завдання 9 (детальні)** перевірити як відбулося перетворення змінних"
   ]
  },
  {
   "cell_type": "markdown",
   "metadata": {
    "id": "U32QZJAeysZy"
   },
   "source": [
    "## Вибірка містить певну кількість атрибутів, які характеризують останій зв'язок кліентів з банком"
   ]
  },
  {
   "cell_type": "markdown",
   "metadata": {
    "id": "gzxtGoEiysZy"
   },
   "source": [
    "**Завдання 10** Виділити в окремий датафрейм змінні, які характеризують зв'язок клієнтів з банком;\n",
    "- вивести цей датафрейм;\n",
    "- перевірити ці змінні на `NaN`."
   ]
  },
  {
   "cell_type": "code",
   "execution_count": null,
   "metadata": {
    "id": "p0zB5zHeysZy"
   },
   "outputs": [],
   "source": [
    "bank_relat = #code"
   ]
  },
  {
   "cell_type": "markdown",
   "metadata": {
    "id": "Axa42bVcysZz"
   },
   "source": [
    "**Завдання 11** вивести унікальні значення, які містять атрибути `contact`, `month`, `day_of_week`"
   ]
  },
  {
   "cell_type": "code",
   "execution_count": null,
   "metadata": {
    "id": "YesBNZfIysZz"
   },
   "outputs": [],
   "source": [
    "#code"
   ]
  },
  {
   "cell_type": "markdown",
   "metadata": {
    "id": "6fFzX2raysZz"
   },
   "source": [
    "# Провести аналіз змінної **Duration**"
   ]
  },
  {
   "cell_type": "markdown",
   "metadata": {
    "id": "YiP7F-TAysZz"
   },
   "source": [
    "змінна ` duration` містить інформацію про тривалість останнього дзвінка, в секундах (числова). Важливе зауваження: цей атрибут сильно впливає на цільову змінну (наприклад, якщо тривалість = 0, тоді y = \"ні\"). Проте тривалість невідома до здійснення дзвінка. Крім того, після закінчення дзвінка y, очевидно, відомо. Таким чином, цей внесок слід включати лише для цілей порівняльних показників і відкидати, якщо метою є реалістична модель прогнозування."
   ]
  },
  {
   "cell_type": "markdown",
   "metadata": {
    "id": "VH7T1BCsysZz"
   },
   "source": [
    "**Завдання 12** Аналіз атрибуту `duration`:  \n",
    "\n",
    "Провести візуальний аналіз зміної `duration`:  \n",
    "\n",
    "\n",
    "*   побудувати  `boxplot` та `distplot`; \n",
    "*   перевірити розподіл по змінній `duration` на важкі хвости. \n",
    "\n"
   ]
  },
  {
   "cell_type": "code",
   "execution_count": null,
   "metadata": {
    "id": "0ijoio2zysZz"
   },
   "outputs": [],
   "source": [
    "#code"
   ]
  },
  {
   "cell_type": "markdown",
   "metadata": {
    "id": "PQJ5TJgjysZ0"
   },
   "source": [
    "**Завдання 13** Закодувати змінні Contact, Month, Day of Week (використовуйте функцію `encode_categorical_columns()`)"
   ]
  },
  {
   "cell_type": "code",
   "execution_count": null,
   "metadata": {
    "id": "thp8iB4bysZ0"
   },
   "outputs": [],
   "source": [
    "#code"
   ]
  },
  {
   "cell_type": "markdown",
   "metadata": {
    "id": "56q7Ok-rysZ0"
   },
   "source": [
    "**Завдання 14** Трансфомувати змінну **duration**, використовуючи її квартильні значення:"
   ]
  },
  {
   "cell_type": "code",
   "execution_count": null,
   "metadata": {
    "id": "wxwc4i-aysZ0"
   },
   "outputs": [],
   "source": [
    "def encode_duration(dataframe: pd.DataFrame, duration_col: str ) -> pd.DataFrame:\n",
    "  \"\"\"\n",
    "  Function for encoding duration column\n",
    "    \n",
    "  df: pd.DataFrame to encode\n",
    "  duration_col: duration col to encode \n",
    "  \"\"\"\n",
    "  \n",
    "  #code\n",
    "          \n",
    "  return dataframe"
   ]
  },
  {
   "cell_type": "code",
   "execution_count": null,
   "metadata": {
    "id": "yGlDw6uGysZ0"
   },
   "outputs": [],
   "source": [
    "bank_relat = encode_duration(bank_relat, 'duration')"
   ]
  },
  {
   "cell_type": "markdown",
   "metadata": {
    "id": "09lfy5MvysZ0"
   },
   "source": [
    "## Провести аналіз атрибутів **соціального та економічного контексту**"
   ]
  },
  {
   "cell_type": "markdown",
   "metadata": {
    "id": "SnUz68opysZ1"
   },
   "source": [
    "**Завдання 15** Виділити в окремий датафрейм атрибути соціального та єкономічного контексту"
   ]
  },
  {
   "cell_type": "code",
   "execution_count": null,
   "metadata": {
    "id": "Iag7Z_6eysZ1"
   },
   "outputs": [],
   "source": [
    "bank_socec = #code"
   ]
  },
  {
   "cell_type": "markdown",
   "metadata": {
    "id": "yPtBjoemysZ1"
   },
   "source": [
    "**Завдання 16** Виділити в окремий датафрейм всі інші атрибути атрибути - `campaign`, `pdays`,`previous`, `poutcome`"
   ]
  },
  {
   "cell_type": "code",
   "execution_count": null,
   "metadata": {
    "id": "tcTvIR9xysZ3"
   },
   "outputs": [],
   "source": [
    "bank_other = #code"
   ]
  },
  {
   "cell_type": "markdown",
   "metadata": {
    "id": "hf9tgwqRysZ3"
   },
   "source": [
    "**Завдання 17** Провести трансформацію атрибуту `poutcome`"
   ]
  },
  {
   "cell_type": "code",
   "execution_count": null,
   "metadata": {
    "id": "nUVUzdq1ysZ3"
   },
   "outputs": [],
   "source": [
    "#code"
   ]
  },
  {
   "cell_type": "markdown",
   "metadata": {
    "id": "-E2GpdBKysZ4"
   },
   "source": [
    "## Будування моделей класифікації"
   ]
  },
  {
   "cell_type": "markdown",
   "metadata": {
    "id": "HZ6ZNGtvysZ4"
   },
   "source": [
    "**Завдання 18** З'єднати всі отримані блоки в один датафрейм і перевірити, що він містить тільки потрібні для моделювання колонки"
   ]
  },
  {
   "cell_type": "code",
   "execution_count": null,
   "metadata": {
    "id": "y6gbsEk2ysZ4"
   },
   "outputs": [],
   "source": [
    "bank_final= # you code\n"
   ]
  },
  {
   "cell_type": "markdown",
   "metadata": {
    "id": "_AwD8ZiBysZ4"
   },
   "source": [
    "**Завдання 19** Провести ділення вибірки"
   ]
  },
  {
   "cell_type": "code",
   "execution_count": null,
   "metadata": {
    "id": "RZhPJcZ4ysZ5"
   },
   "outputs": [],
   "source": [
    "def prepare_data_for_training(X: pd.DataFrame,\n",
    "                              target: pd.Series,\n",
    "                              test_size: float,\n",
    "                              n_splits: int,\n",
    "                              random_state: int):\n",
    "    \"\"\"\n",
    "    Function that prepares data for training. Splits the data into train and test datasets and get k-folds for cross-validation\n",
    "\n",
    "    X: pd.DataFrame with features\n",
    "    target: target pd.Series\n",
    "    test_size: the size of test datasets\n",
    "    n_splits: number of cross-validation splits\n",
    "    random_state: random state to reproduce the same split\n",
    "\n",
    "    returns: X_train, X_test, y_train, y_test, k_fold\n",
    "    \"\"\"\n",
    "\n",
    "    X_train, X_test, y_train, y_test = # your code\n",
    "    k_fold = KFold(n_splits=n_splits, shuffle=True, random_state=random_state)\n",
    "\n",
    "    return X_train, X_test, y_train, y_test, k_fold"
   ]
  },
  {
   "cell_type": "code",
   "execution_count": null,
   "metadata": {
    "id": "1rj6PXqfysZ5"
   },
   "outputs": [],
   "source": [
    "X_train, X_test, y_train, y_test, k_fold = prepare_data_for_training(bank_final, target, 0.2, 10, 101)"
   ]
  },
  {
   "cell_type": "code",
   "execution_count": null,
   "metadata": {
    "id": "Zx4lCwm3ysZ6"
   },
   "outputs": [],
   "source": [
    "def scale_the_data(X_train: pd.DataFrame, \n",
    "                   X_test: pd.DataFrame):\n",
    "  \n",
    "  sc_X = StandardScaler()\n",
    "  X_train = sc_X.fit_transform(X_train)\n",
    "  X_test = sc_X.transform(X_test)\n",
    "\n",
    "  return X_train, X_test"
   ]
  },
  {
   "cell_type": "code",
   "execution_count": null,
   "metadata": {
    "id": "v3ypxy96As9J"
   },
   "outputs": [],
   "source": [
    "X_train, X_test = scale_the_data(X_train, X_test)"
   ]
  },
  {
   "cell_type": "markdown",
   "metadata": {},
   "source": [
    "## Логістична Регресія"
   ]
  },
  {
   "cell_type": "code",
   "execution_count": null,
   "metadata": {
    "id": "TZBcy1C3ysZ6"
   },
   "outputs": [],
   "source": [
    "logmodel = LogisticRegression() \n",
    "logmodel.fit(#your code)\n",
    "logpred = logmodel.predict(X_test)\n",
    "\n",
    "\n",
    "print(confusion_matrix(y_test, logpred))\n",
    "print(round(accuracy_score(y_test, logpred),2)*100)\n",
    "LOGCV = (cross_val_score(logmodel, X_test, y_test, cv=k_fold, n_jobs=1, scoring = 'accuracy').mean())"
   ]
  },
  {
   "cell_type": "markdown",
   "metadata": {},
   "source": [
    "## k-NN"
   ]
  },
  {
   "cell_type": "code",
   "execution_count": null,
   "metadata": {
    "id": "NHxB-_ZUysZ6"
   },
   "outputs": [],
   "source": [
    "#Neighbors\n",
    "neighbors = np.arange(0,25)\n",
    "\n",
    "#Create empty list that will hold cv scores\n",
    "cv_scores = []\n",
    "\n",
    "#Perform 10-fold cross validation on training set for odd values of k:\n",
    "for k in neighbors:\n",
    "    k_value = k+1\n",
    "    knn = KNeighborsClassifier(n_neighbors = k_value, weights='uniform', p=2, metric='euclidean')\n",
    "    scores = model_selection.cross_val_score(knn, X_train, y_train, cv=k_fold, scoring='accuracy')\n",
    "    cv_scores.append(scores.mean()*100)\n",
    "    print(\"k=%d %0.2f (+/- %0.2f)\" % (k_value, scores.mean()*100, scores.std()*100))\n",
    "\n",
    "optimal_k = neighbors[cv_scores.index(max(cv_scores))]\n",
    "print (\"The optimal number of neighbors is %d with %0.1f%%\" % (optimal_k, cv_scores[optimal_k]))\n",
    "\n",
    "plt.plot(neighbors, cv_scores)\n",
    "plt.xlabel('Number of Neighbors K')\n",
    "plt.ylabel('Train Accuracy')\n",
    "plt.show()"
   ]
  },
  {
   "cell_type": "code",
   "execution_count": null,
   "metadata": {
    "id": "483uXHTnysZ6"
   },
   "outputs": [],
   "source": [
    "knn = KNeighborsClassifier(n_neighbors=optimal_k)\n",
    "knn.fit(#your code)\n",
    "knnpred = knn.predict(X_test)\n",
    "\n",
    "print(confusion_matrix(y_test, knnpred))\n",
    "print(round(accuracy_score(y_test, knnpred),2)*100)\n",
    "KNNCV = (cross_val_score(knn, X_test, y_test, cv=k_fold, n_jobs=1, scoring = 'accuracy').mean())"
   ]
  },
  {
   "cell_type": "markdown",
   "metadata": {},
   "source": [
    "## Логістична Регресія"
   ]
  },
  {
   "cell_type": "code",
   "execution_count": null,
   "metadata": {
    "id": "bIir_TuRysZ7"
   },
   "outputs": [],
   "source": [
    "models = pd.DataFrame({\n",
    "                'Models': #code,\n",
    "                'Score':  #code]})\n",
    "\n",
    "models.sort_values(by='Score', ascending=False)"
   ]
  },
  {
   "cell_type": "markdown",
   "metadata": {
    "id": "mh_Vd_vOysZ7"
   },
   "source": [
    "**Висновки по моделям (детальні)**"
   ]
  },
  {
   "cell_type": "markdown",
   "metadata": {
    "id": "ZK2CADn6ysZ7"
   },
   "source": [
    "1.   \n",
    "2.   \n",
    "3. ..."
   ]
  }
 ],
 "metadata": {
  "colab": {
   "name": "Task5_Classification (1).ipynb",
   "provenance": []
  },
  "kernelspec": {
   "display_name": "Python 3",
   "language": "python",
   "name": "python3"
  },
  "language_info": {
   "codemirror_mode": {
    "name": "ipython",
    "version": 3
   },
   "file_extension": ".py",
   "mimetype": "text/x-python",
   "name": "python",
   "nbconvert_exporter": "python",
   "pygments_lexer": "ipython3",
   "version": "3.8.3"
  }
 },
 "nbformat": 4,
 "nbformat_minor": 4
}
